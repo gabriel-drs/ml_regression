{
  "nbformat": 4,
  "nbformat_minor": 0,
  "metadata": {
    "colab": {
      "provenance": [],
      "authorship_tag": "ABX9TyNSx2pVyA/e5cVS7APg0xSU",
      "include_colab_link": true
    },
    "kernelspec": {
      "name": "python3",
      "display_name": "Python 3"
    },
    "language_info": {
      "name": "python"
    }
  },
  "cells": [
    {
      "cell_type": "markdown",
      "metadata": {
        "id": "view-in-github",
        "colab_type": "text"
      },
      "source": [
        "<a href=\"https://colab.research.google.com/github/gabriel-drs/ml_regression/blob/main/Regress%C3%A3o_Linear_M%C3%BAltiplaLead.ipynb\" target=\"_parent\"><img src=\"https://colab.research.google.com/assets/colab-badge.svg\" alt=\"Open In Colab\"/></a>"
      ]
    },
    {
      "cell_type": "markdown",
      "source": [
        "Importando as bibliotecas necessárias"
      ],
      "metadata": {
        "id": "fIiOwUXW8mzR"
      }
    },
    {
      "cell_type": "code",
      "execution_count": null,
      "metadata": {
        "id": "FRmo6Pvd8HVY"
      },
      "outputs": [],
      "source": [
        "import pandas as pd\n",
        "import numpy as np\n",
        "import matplotlib.pyplot as plt"
      ]
    },
    {
      "cell_type": "markdown",
      "source": [
        "Carregando os dados"
      ],
      "metadata": {
        "id": "8GNUotMy8-s0"
      }
    },
    {
      "cell_type": "code",
      "source": [
        "df = pd.read_csv('car_data.csv') #Usamos para carregar o arquivo dos dados\n",
        "df.head(12)"
      ],
      "metadata": {
        "colab": {
          "base_uri": "https://localhost:8080/"
        },
        "id": "-fsNDPQ58r4j",
        "outputId": "994c03ce-16f9-445c-d5b0-974dcd41eb13"
      },
      "execution_count": null,
      "outputs": [
        {
          "output_type": "stream",
          "name": "stdout",
          "text": [
            "(301, 9)\n"
          ]
        }
      ]
    },
    {
      "cell_type": "code",
      "source": [
        "print(df.shape) #Mostra o tamanho de registros"
      ],
      "metadata": {
        "colab": {
          "base_uri": "https://localhost:8080/"
        },
        "id": "t5CmObvp9U08",
        "outputId": "d552b1f6-5cfe-4ef3-eb1c-82cf3294480c"
      },
      "execution_count": null,
      "outputs": [
        {
          "output_type": "stream",
          "name": "stdout",
          "text": [
            "(301, 9)\n"
          ]
        }
      ]
    },
    {
      "cell_type": "markdown",
      "source": [
        "Faremos algumas pequenas alterações. Mudaremos os textos para números"
      ],
      "metadata": {
        "id": "kzRTuGdt9Ui8"
      }
    },
    {
      "cell_type": "code",
      "source": [
        "df['tipo_transmissao'].replace({'Manual' : 0, 'Automatico' : 1}, inplace = True)\n",
        "df['tipo_vendedor'].replace({'Revendedor' : 0, 'Individual' : 1}, inplace = True)\n",
        "df['tipo_combustivel'].replace({'Gasolina' : 0, 'Diesel' : 1, 'GasNatural' : 2}, inplace = True)\n",
        "df.head(21)"
      ],
      "metadata": {
        "id": "Xx7D2lC1-Jyj"
      },
      "execution_count": null,
      "outputs": []
    },
    {
      "cell_type": "markdown",
      "source": [
        "Gerando um gráfico sobre os anos dos carros e suas vendas"
      ],
      "metadata": {
        "id": "OhMNngz5_keF"
      }
    },
    {
      "cell_type": "code",
      "source": [
        "plt.scatter(df['ano'], df['preco_venda'], color = 'blue')\n",
        "plt.xlabel('Ano do Carro')\n",
        "plt.ylabel('Preço da Venda')\n",
        "plt.show()"
      ],
      "metadata": {
        "colab": {
          "base_uri": "https://localhost:8080/",
          "height": 279
        },
        "id": "ImXgOncY_mtw",
        "outputId": "e9d36931-4698-450e-8acd-29764d355a1a"
      },
      "execution_count": null,
      "outputs": [
        {
          "output_type": "display_data",
          "data": {
            "text/plain": [
              "<Figure size 432x288 with 1 Axes>"
            ],
            "image/png": "[encoded data removed]"
          },
          "metadata": {
            "needs_background": "light"
          }
        }
      ]
    },
    {
      "cell_type": "markdown",
      "source": [
        "Agora faremos um gráfico com o ano dos carros mais rodados"
      ],
      "metadata": {
        "id": "wdt3xBYOAU2k"
      }
    },
    {
      "cell_type": "code",
      "source": [
        "plt.scatter(df['ano'], df['kms_rodados'], color = 'red')\n",
        "plt.xlabel('Ano do Carro')\n",
        "plt.ylabel('Km´s rodados')\n",
        "plt.show()"
      ],
      "metadata": {
        "colab": {
          "base_uri": "https://localhost:8080/",
          "height": 279
        },
        "id": "92dJJ-5hAnAO",
        "outputId": "bb54b1b5-d70b-42ec-bf6f-fdf9eabc5290"
      },
      "execution_count": null,
      "outputs": [
        {
          "output_type": "display_data",
          "data": {
            "text/plain": [
              "<Figure size 432x288 with 1 Axes>"
            ],
            "image/png": "[encoded data removed]"
          },
          "metadata": {
            "needs_background": "light"
          }
        }
      ]
    },
    {
      "cell_type": "markdown",
      "source": [
        "Agora que já montamos nossos gráficos, iremos para a parte de previsão. Começaremos separando variáveis dependentes das independentes"
      ],
      "metadata": {
        "id": "1ZG3WgYhBFPr"
      }
    },
    {
      "cell_type": "code",
      "source": [
        "x = df[['ano', 'preco_atual', 'kms_rodados', 'tipo_combustivel', 'tipo_vendedor', 'tipo_transmissao', 'n_donos']]\n",
        "#Essas serão nossas variáveis independentes"
      ],
      "metadata": {
        "id": "b0y0xoY1BUCq"
      },
      "execution_count": null,
      "outputs": []
    },
    {
      "cell_type": "code",
      "source": [
        "y = df[['preco_venda']]\n",
        "#Nossa variável dependente"
      ],
      "metadata": {
        "id": "P0YSpuraCb68"
      },
      "execution_count": null,
      "outputs": []
    },
    {
      "cell_type": "markdown",
      "source": [
        "Agora, separaremos os dados de treinos e de testes"
      ],
      "metadata": {
        "id": "sY2Y6NlfCqRF"
      }
    },
    {
      "cell_type": "code",
      "source": [
        "from sklearn.model_selection import train_test_split\n",
        "\n",
        "x_treino, x_teste, y_treino, y_teste = train_test_split(x, y, test_size=0.2)\n",
        "#x_treino e y_treino são usados para treinar o modelo\n",
        "#x_teste usada para fazer as predições após os testes\n",
        "#y_teste repostas usadas para treinar o algoritmo"
      ],
      "metadata": {
        "id": "JytIdNVkC9ir"
      },
      "execution_count": null,
      "outputs": []
    },
    {
      "cell_type": "code",
      "source": [
        "#Vamor dar uma olhada no número de registro que serção usados no teste e treino?\n",
        "print('Treino')\n",
        "print('x_train: ', x_treino.shape)\n",
        "print('y_train: ', y_treino.shape)\n",
        "\n",
        "print('\\nTeste')\n",
        "print('x_test: ', x_teste.shape)\n",
        "print('y_test: ', y_teste.shape)"
      ],
      "metadata": {
        "colab": {
          "base_uri": "https://localhost:8080/"
        },
        "id": "sr2jDHfgEr83",
        "outputId": "7ac94f4e-90e3-4ada-9781-de69f6e52e26"
      },
      "execution_count": null,
      "outputs": [
        {
          "output_type": "stream",
          "name": "stdout",
          "text": [
            "Treino\n",
            "x_train:  (240, 7)\n",
            "y_train:  (240, 1)\n",
            "\n",
            "Teste\n",
            "x_test:  (61, 7)\n",
            "y_test:  (61, 1)\n"
          ]
        }
      ]
    },
    {
      "cell_type": "markdown",
      "source": [
        "Agora, iremos treinar o modelo"
      ],
      "metadata": {
        "id": "orqPXryxFmcx"
      }
    },
    {
      "cell_type": "code",
      "source": [
        "from sklearn.linear_model import LinearRegression\n",
        "\n",
        "#Define o modelo\n",
        "model = LinearRegression()\n",
        "\n",
        "#Treina o modelo com os dados de treino\n",
        "model.fit(x_treino, y_treino)"
      ],
      "metadata": {
        "colab": {
          "base_uri": "https://localhost:8080/"
        },
        "id": "P1Kt8UM2FpED",
        "outputId": "5ff3f5e7-b3cb-489b-c984-9eb289712b62"
      },
      "execution_count": null,
      "outputs": [
        {
          "output_type": "execute_result",
          "data": {
            "text/plain": [
              "LinearRegression()"
            ]
          },
          "metadata": {},
          "execution_count": 33
        }
      ]
    },
    {
      "cell_type": "code",
      "source": [
        "#Realiza a previsão\n",
        "y_pred = model.predict(x_teste)\n",
        "\n",
        "print(y_pred.shape)\n",
        "print(y_teste.shape)"
      ],
      "metadata": {
        "colab": {
          "base_uri": "https://localhost:8080/"
        },
        "id": "Mma7IjhEGqZS",
        "outputId": "00a96e28-50a4-4370-d3df-417bfe60913a"
      },
      "execution_count": null,
      "outputs": [
        {
          "output_type": "stream",
          "name": "stdout",
          "text": [
            "(61, 1)\n",
            "(61, 1)\n"
          ]
        }
      ]
    },
    {
      "cell_type": "markdown",
      "source": [
        "Vamos gerar os gráficos da previsão agora?"
      ],
      "metadata": {
        "id": "xCq_pRxOHdhi"
      }
    },
    {
      "cell_type": "code",
      "source": [
        "plt.plot(range(y_pred.shape[0]), y_pred, 'r--')\n",
        "plt.plot(range(y_teste.shape[0]), y_teste, 'g--')\n",
        "plt.legend(['Preço previsto', 'Preço real'])\n",
        "plt.xlabel('Indice')\n",
        "plt.ylabel('Preços')\n",
        "plt.show()"
      ],
      "metadata": {
        "colab": {
          "base_uri": "https://localhost:8080/",
          "height": 279
        },
        "id": "OPL2lHciHWxD",
        "outputId": "bc943186-49f4-45c8-992e-a7e9f599ac74"
      },
      "execution_count": null,
      "outputs": [
        {
          "output_type": "display_data",
          "data": {
            "text/plain": [
              "<Figure size 432x288 with 1 Axes>"
            ],
            "image/png": "[encoded data removed]"
          },
          "metadata": {
            "needs_background": "light"
          }
        }
      ]
    },
    {
      "cell_type": "markdown",
      "source": [
        "Para saber o quanto o nosso modelo está explicando os dados, ou o quanto o modelo pode prever corretamente,\n",
        "iremos utilizar a medida r2, que é o coeficiente de determinação. Para isso iremos utilizar os dados da resposta\n",
        "na etapa de teste e os dados de resposta previstos."
      ],
      "metadata": {
        "id": "b8fJxFgXJNKP"
      }
    },
    {
      "cell_type": "code",
      "source": [
        "from sklearn.metrics import r2_score\n",
        "print('r2_score: ', r2_score(y_teste, y_pred))"
      ],
      "metadata": {
        "colab": {
          "base_uri": "https://localhost:8080/"
        },
        "id": "AIBxCbjOJR5p",
        "outputId": "99e9f03a-c8e4-40d8-cf8c-a121fa6853fa"
      },
      "execution_count": null,
      "outputs": [
        {
          "output_type": "stream",
          "name": "stdout",
          "text": [
            "r2_score:  0.8877609040728183\n"
          ]
        }
      ]
    },
    {
      "cell_type": "markdown",
      "source": [
        "Quanto mais perto de 1, mais o modelo é capaz de prever corretamente. Em porcentagem, ele está prevendo cerca de 88% dos preços corretamente"
      ],
      "metadata": {
        "id": "DM3DC8mzJ_KV"
      }
    },
    {
      "cell_type": "markdown",
      "source": [
        "Vamos praticar mais?"
      ],
      "metadata": {
        "id": "Cq4IKvzrKncL"
      }
    },
    {
      "cell_type": "code",
      "source": [
        "#Vamos começar separando os dados Dependentes e Independentes\n",
        "\n",
        "new_x = df[['ano', 'preco_atual', 'kms_rodados', 'tipo_combustivel']]\n",
        "new_y = df[['preco_venda']]"
      ],
      "metadata": {
        "id": "hixqbn7dJ5Jk"
      },
      "execution_count": null,
      "outputs": []
    },
    {
      "cell_type": "code",
      "source": [
        "#Agora separaremos os de treino e de testes\n",
        "from sklearn.model_selection import train_test_split\n",
        "\n",
        "new_x_train, new_x_test, new_y_train, new_y_test = train_test_split(new_x, new_y, test_size=0.2)\n",
        "#x_treino e y_treino são usados para treinar o modelo\n",
        "#x_teste usada para fazer as predições após os testes\n",
        "#y_teste repostas usadas para treinar o algoritmo"
      ],
      "metadata": {
        "id": "Xn9zwmx7LVnY"
      },
      "execution_count": null,
      "outputs": []
    },
    {
      "cell_type": "code",
      "source": [
        "#Vamor dar uma olhada no número de registro que serção usados no teste e treino?\n",
        "print('Treino')\n",
        "print('new_x_train: ', new_x_train.shape)\n",
        "print('new_y_train: ', new_y_train.shape)\n",
        "\n",
        "print('\\nTeste')\n",
        "print('new_x_test: ', new_x_test.shape)\n",
        "print('new_y_test: ', new_y_test.shape)"
      ],
      "metadata": {
        "colab": {
          "base_uri": "https://localhost:8080/"
        },
        "id": "n5Kl9b_8MZjM",
        "outputId": "00e25fba-de98-466a-d71d-de9b7047c43c"
      },
      "execution_count": null,
      "outputs": [
        {
          "output_type": "stream",
          "name": "stdout",
          "text": [
            "Treino\n",
            "new_x_train:  (240, 4)\n",
            "new_y_train:  (240, 1)\n",
            "\n",
            "Teste\n",
            "new_x_test:  (61, 4)\n",
            "new_y_test:  (61, 1)\n"
          ]
        }
      ]
    },
    {
      "cell_type": "code",
      "source": [
        "#Agora vamos treinar o nosso modelo\n",
        "from sklearn.linear_model import LinearRegression\n",
        "\n",
        "model = LinearRegression() #Definindo o modelo\n",
        "model.fit(new_x_train, new_y_train) #Treinando ele"
      ],
      "metadata": {
        "colab": {
          "base_uri": "https://localhost:8080/"
        },
        "id": "uiqMiAlYM1Db",
        "outputId": "db823486-88bd-4dc8-972b-9be2804b3e9e"
      },
      "execution_count": null,
      "outputs": [
        {
          "output_type": "execute_result",
          "data": {
            "text/plain": [
              "LinearRegression()"
            ]
          },
          "metadata": {},
          "execution_count": 45
        }
      ]
    },
    {
      "cell_type": "code",
      "source": [
        "#Agora realizaremos a previsão\n",
        "new_y_pred = model.predict(new_x_test)\n",
        "\n",
        "print(new_y_pred.shape)\n",
        "print(new_y_test.shape)"
      ],
      "metadata": {
        "colab": {
          "base_uri": "https://localhost:8080/"
        },
        "id": "LEL2Qc8hNhCU",
        "outputId": "27b0803d-72cf-4e3e-fb56-37f65f3fcdf5"
      },
      "execution_count": null,
      "outputs": [
        {
          "output_type": "stream",
          "name": "stdout",
          "text": [
            "(61, 1)\n",
            "(61, 1)\n"
          ]
        }
      ]
    },
    {
      "cell_type": "code",
      "source": [
        "#Vamos gerar os gráficos\n",
        "plt.plot(range(new_y_pred.shape[0]), new_y_pred, 'r--')\n",
        "plt.plot(range(new_y_test.shape[0]), new_y_test, 'g--')\n",
        "plt.legend(['Preço previsto', 'Preço real'])\n",
        "plt.xlabel('Indices')\n",
        "plt.ylabel('Preços')\n",
        "plt.show()"
      ],
      "metadata": {
        "colab": {
          "base_uri": "https://localhost:8080/",
          "height": 283
        },
        "id": "rOJ9HuS6OJ4Q",
        "outputId": "174c0bfb-0df6-4bfc-9fa2-2f65e71b10b9"
      },
      "execution_count": null,
      "outputs": [
        {
          "output_type": "display_data",
          "data": {
            "text/plain": [
              "<Figure size 432x288 with 1 Axes>"
            ],
            "image/png": "[encoded data removed]"
          },
          "metadata": {
            "needs_background": "light"
          }
        }
      ]
    },
    {
      "cell_type": "code",
      "source": [
        "from sklearn.metrics import r2_score\n",
        "print('r2_score: ', r2_score(new_y_test, new_y_pred))"
      ],
      "metadata": {
        "colab": {
          "base_uri": "https://localhost:8080/"
        },
        "id": "fzshri7aPGi4",
        "outputId": "1afe546e-3d2f-4c5c-b051-1fa97bfa59d7"
      },
      "execution_count": null,
      "outputs": [
        {
          "output_type": "stream",
          "name": "stdout",
          "text": [
            "r2_score:  0.7788839484777692\n"
          ]
        }
      ]
    }
  ]
}